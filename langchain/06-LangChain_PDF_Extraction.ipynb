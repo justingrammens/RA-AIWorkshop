{
 "cells": [
  {
   "cell_type": "code",
   "execution_count": null,
   "metadata": {},
   "outputs": [],
   "source": [
    "pip install -q pypdf chromadb"
   ]
  },
  {
   "cell_type": "markdown",
   "metadata": {},
   "source": [
    "# Simple RAG (Retrieval-Augmented Generation) System for a PDF\n",
    "\n",
    "# Let's Look at Embeddings and Vector Databases\n",
    "\n",
    "Let's load a PDF from the file system and then ask question about it. In this case we'll use Embeddings from OpenAI and a local VectorDatbase called ChromaDB"
   ]
  },
  {
   "cell_type": "markdown",
   "metadata": {},
   "source": [
    "![Image Description](embedding1.png)\n",
    "![Image Description](embedding2.png)\n",
    "![Image Description](embedding3.png)\n",
    "\n"
   ]
  },
  {
   "cell_type": "markdown",
   "metadata": {},
   "source": []
  },
  {
   "cell_type": "code",
   "execution_count": 1,
   "metadata": {},
   "outputs": [
    {
     "name": "stderr",
     "output_type": "stream",
     "text": [
      "/var/folders/fn/f1_5kmtj0wd5w15pp0qnlf780000gn/T/ipykernel_87898/312053111.py:19: LangChainDeprecationWarning: The class `OpenAIEmbeddings` was deprecated in LangChain 0.0.9 and will be removed in 1.0. An updated version of the class exists in the :class:`~langchain-openai package and should be used instead. To use it run `pip install -U :class:`~langchain-openai` and import as `from :class:`~langchain_openai import OpenAIEmbeddings``.\n",
      "  embeddings = OpenAIEmbeddings()\n",
      "/var/folders/fn/f1_5kmtj0wd5w15pp0qnlf780000gn/T/ipykernel_87898/312053111.py:25: LangChainDeprecationWarning: The class `ChatOpenAI` was deprecated in LangChain 0.0.10 and will be removed in 1.0. An updated version of the class exists in the :class:`~langchain-openai package and should be used instead. To use it run `pip install -U :class:`~langchain-openai` and import as `from :class:`~langchain_openai import ChatOpenAI``.\n",
      "  llm = ChatOpenAI(model='gpt-3.5-turbo', temperature=0)\n"
     ]
    }
   ],
   "source": [
    "from langchain.chains import RetrievalQA\n",
    "from langchain.document_loaders import PyPDFLoader\n",
    "from langchain.text_splitter import CharacterTextSplitter\n",
    "from langchain.embeddings import OpenAIEmbeddings\n",
    "from langchain.vectorstores import Chroma\n",
    "from langchain.embeddings import OpenAIEmbeddings\n",
    "from langchain.chat_models import ChatOpenAI\n",
    "\n",
    "# load the PDF document\n",
    "loader = PyPDFLoader(\"constitution.pdf\")\n",
    "documents = loader.load()\n",
    "\n",
    "# split the documents into chunks\n",
    "# The chunk size and chunk overlap parameters can be used to control the granularity of the text splitting.\n",
    "text_splitter = CharacterTextSplitter(chunk_size=1000, chunk_overlap=0) # specify how many characters per chunk and overlap\n",
    "texts = text_splitter.split_documents(documents)\n",
    "\n",
    "# select which embeddings we want to use\n",
    "embeddings = OpenAIEmbeddings()\n",
    "\n",
    "# Create embeddings for each chunk and insert into the Chroma vector database.\n",
    "db = Chroma.from_documents(texts, embeddings)\n",
    "\n",
    "# Create a language model and a retriever\n",
    "llm = ChatOpenAI(model='gpt-3.5-turbo', temperature=0)\n",
    "retriever = db.as_retriever()\n",
    "\n",
    "# Create a QA chain\n",
    "chain = RetrievalQA.from_chain_type(llm, retriever=retriever, chain_type='stuff')"
   ]
  },
  {
   "cell_type": "markdown",
   "metadata": {},
   "source": [
    "The chain is now all set. Let's ask some questions!"
   ]
  },
  {
   "cell_type": "code",
   "execution_count": 2,
   "metadata": {},
   "outputs": [
    {
     "name": "stderr",
     "output_type": "stream",
     "text": [
      "/var/folders/fn/f1_5kmtj0wd5w15pp0qnlf780000gn/T/ipykernel_87898/4128507753.py:5: LangChainDeprecationWarning: The method `Chain.run` was deprecated in langchain 0.1.0 and will be removed in 1.0. Use :meth:`~invoke` instead.\n",
      "  chain.run(query)\n"
     ]
    },
    {
     "data": {
      "text/plain": [
       "'The First Amendment to the United States Constitution guarantees the freedom of religion, speech, press, assembly, and the right to petition the government for redress of grievances.'"
      ]
     },
     "execution_count": 2,
     "metadata": {},
     "output_type": "execute_result"
    }
   ],
   "source": [
    "#query = \"What is the age required to be president?\"\n",
    "#query = \"What is the title of this document?\"\n",
    "#query = \"Who signed this document?\"\n",
    "query = \"What is the first amendment?\"\n",
    "chain.run(query)"
   ]
  },
  {
   "cell_type": "markdown",
   "metadata": {},
   "source": []
  }
 ],
 "metadata": {
  "kernelspec": {
   "display_name": ".venv",
   "language": "python",
   "name": "python3"
  },
  "language_info": {
   "codemirror_mode": {
    "name": "ipython",
    "version": 3
   },
   "file_extension": ".py",
   "mimetype": "text/x-python",
   "name": "python",
   "nbconvert_exporter": "python",
   "pygments_lexer": "ipython3",
   "version": "3.13.2"
  }
 },
 "nbformat": 4,
 "nbformat_minor": 2
}
