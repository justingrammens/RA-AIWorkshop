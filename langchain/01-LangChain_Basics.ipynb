{
 "cells": [
  {
   "cell_type": "markdown",
   "metadata": {},
   "source": [
    "## Langchain: Let's Start With The Basics\n",
    "\n",
    "This is a Python notebook. It allows us to run code segments and see the results. There's a series of imports that we'll do first and then load the models from OpenAI\n",
    "\n",
    "[LangChain Providers](https://python.langchain.com/docs/integrations/providers)\n",
    "\n",
    "NOTE: You will need to have an environment variable of OPENAI_API_KEY with your key value"
   ]
  },
  {
   "cell_type": "code",
   "execution_count": 2,
   "metadata": {},
   "outputs": [
    {
     "name": "stdout",
     "output_type": "stream",
     "text": [
      "\n",
      "\u001b[1m[\u001b[0m\u001b[34;49mnotice\u001b[0m\u001b[1;39;49m]\u001b[0m\u001b[39;49m A new release of pip is available: \u001b[0m\u001b[31;49m25.0\u001b[0m\u001b[39;49m -> \u001b[0m\u001b[32;49m25.1.1\u001b[0m\n",
      "\u001b[1m[\u001b[0m\u001b[34;49mnotice\u001b[0m\u001b[1;39;49m]\u001b[0m\u001b[39;49m To update, run: \u001b[0m\u001b[32;49mpip install --upgrade pip\u001b[0m\n",
      "Note: you may need to restart the kernel to use updated packages.\n"
     ]
    }
   ],
   "source": [
    "pip install -q openai langchain langchain_experimental"
   ]
  },
  {
   "cell_type": "markdown",
   "metadata": {},
   "source": [
    "# Sequential Chain\n",
    "\n",
    "This is an example of a sequential pipeline (or \"chain\") of prompts:\n",
    "\n",
    "Each step is predefined and runs in order.\n",
    "There is no dynamic decision-making or tool selection.\n",
    "The flow is fixed: extract features → assess risks → suggest mitigations."
   ]
  },
  {
   "cell_type": "code",
   "execution_count": 1,
   "metadata": {},
   "outputs": [
    {
     "name": "stdout",
     "output_type": "stream",
     "text": [
      "Features:\n",
      " content='1. Dual-lumen shaft: The catheter is designed with a dual-lumen shaft, which allows for multiple uses or functions through the same device, such as simultaneous fluid delivery and pressure monitoring.\\n\\n2. Embedded pressure sensor: The device includes an embedded pressure sensor, which allows for real-time monitoring of the pressure within the cardiovascular system. This can provide critical information during medical procedures.\\n\\n3. Balloon inflation system: The catheter is equipped with a balloon inflation system, which is optimized for cardiovascular access. This feature can be used to temporarily block a vessel or to widen a narrow or blocked artery.' additional_kwargs={'refusal': None} response_metadata={'token_usage': {'completion_tokens': 121, 'prompt_tokens': 50, 'total_tokens': 171, 'completion_tokens_details': {'accepted_prediction_tokens': 0, 'audio_tokens': 0, 'reasoning_tokens': 0, 'rejected_prediction_tokens': 0}, 'prompt_tokens_details': {'audio_tokens': 0, 'cached_tokens': 0}}, 'model_name': 'gpt-4-0613', 'system_fingerprint': None, 'id': 'chatcmpl-BfQMF70CP5T3TaO2DHYR70ERweQGt', 'service_tier': 'default', 'finish_reason': 'stop', 'logprobs': None} id='run--b8cf43af-bff2-45b3-b2c8-5cf6ffe1c7fc-0' usage_metadata={'input_tokens': 50, 'output_tokens': 121, 'total_tokens': 171, 'input_token_details': {'audio': 0, 'cache_read': 0}, 'output_token_details': {'audio': 0, 'reasoning': 0}}\n",
      "\n",
      "Risks:\n",
      " content='1. Dual-lumen shaft: A potential risk could be cross-contamination between the two lumens if not properly cleaned or maintained. This could lead to infection or other complications. Additionally, if the two lumens are not clearly differentiated, there could be confusion leading to incorrect use.\\n\\n2. Embedded pressure sensor: The sensor could potentially malfunction or provide inaccurate readings, leading to incorrect medical decisions. Additionally, if the sensor is not properly secured, it could dislodge and cause injury or damage to the cardiovascular system.\\n\\n3. Balloon inflation system: If the balloon is over-inflated, it could rupture and cause damage to the vessel. Conversely, if it is under-inflated, it may not perform its function effectively. There is also the risk of the balloon detaching and causing an embolism.' additional_kwargs={'refusal': None} response_metadata={'token_usage': {'completion_tokens': 165, 'prompt_tokens': 409, 'total_tokens': 574, 'completion_tokens_details': {'accepted_prediction_tokens': 0, 'audio_tokens': 0, 'reasoning_tokens': 0, 'rejected_prediction_tokens': 0}, 'prompt_tokens_details': {'audio_tokens': 0, 'cached_tokens': 0}}, 'model_name': 'gpt-4-0613', 'system_fingerprint': None, 'id': 'chatcmpl-BfQMJ3XLyWmSNVcMSSuJhVoOvLcdP', 'service_tier': 'default', 'finish_reason': 'stop', 'logprobs': None} id='run--bb9641bc-88ec-4409-995f-a2e4bcdba542-0' usage_metadata={'input_tokens': 409, 'output_tokens': 165, 'total_tokens': 574, 'input_token_details': {'audio': 0, 'cache_read': 0}, 'output_token_details': {'audio': 0, 'reasoning': 0}}\n",
      "\n",
      "Mitigations:\n",
      " content='1. Dual-lumen shaft: To mitigate the risk of cross-contamination, a strict cleaning and maintenance protocol should be established and followed. This includes using appropriate cleaning solutions and techniques to ensure both lumens are thoroughly cleaned. To avoid confusion, the lumens could be color-coded or otherwise clearly marked to indicate their different purposes.\\n\\n2. Embedded pressure sensor: Regular calibration and testing of the sensor can help ensure its accuracy and proper functioning. To prevent the sensor from dislodging, it should be securely attached and checked regularly for any signs of loosening. In case of malfunction, a backup measurement method should be in place.\\n\\n3. Balloon inflation system: To avoid over- or under-inflation, the system should have a built-in pressure gauge or other mechanism to monitor the inflation level. The balloon should be made from durable materials to reduce the risk of rupture. Additionally, the balloon should be securely attached to prevent it from detaching and causing an embolism. Regular inspections and maintenance can also help identify any potential issues early.' additional_kwargs={'refusal': None} response_metadata={'token_usage': {'completion_tokens': 209, 'prompt_tokens': 444, 'total_tokens': 653, 'completion_tokens_details': {'accepted_prediction_tokens': 0, 'audio_tokens': 0, 'reasoning_tokens': 0, 'rejected_prediction_tokens': 0}, 'prompt_tokens_details': {'audio_tokens': 0, 'cached_tokens': 0}}, 'model_name': 'gpt-4-0613', 'system_fingerprint': None, 'id': 'chatcmpl-BfQMRcnMbJnB144jjx5trQYexQcEG', 'service_tier': 'default', 'finish_reason': 'stop', 'logprobs': None} id='run--f9901ff6-4e80-4f99-82e9-e590aa44f289-0' usage_metadata={'input_tokens': 444, 'output_tokens': 209, 'total_tokens': 653, 'input_token_details': {'audio': 0, 'cache_read': 0}, 'output_token_details': {'audio': 0, 'reasoning': 0}}\n"
     ]
    }
   ],
   "source": [
    "# Simulated Multi-Step Reasoning with LangChain\n",
    "# Scenario: Medical Device R&D - Usability and Risk Assessment Pipeline\n",
    "\n",
    "from langchain_openai import ChatOpenAI\n",
    "from langchain_core.prompts import PromptTemplate\n",
    "from langchain_core.runnables import RunnableSequence\n",
    "import os\n",
    "\n",
    "# Initialize OpenAI LLM using environment variable for the API key\n",
    "llm = ChatOpenAI(model_name=\"gpt-4\", temperature=0.3)\n",
    "\n",
    "# Step 1: Extract Features\n",
    "product_description = \"The catheter is designed with a dual-lumen shaft, embedded pressure sensor, and balloon inflation system optimized for cardiovascular access.\"\n",
    "\n",
    "step1_prompt = PromptTemplate(\n",
    "    input_variables=[\"description\"],\n",
    "    template=\"\"\"\n",
    "Extract 3-5 key features of the medical device described below.\n",
    "Product Description:\n",
    "{description}\n",
    "\"\"\"\n",
    ")\n",
    "step1_chain = step1_prompt | llm\n",
    "features = step1_chain.invoke({\"description\": product_description})\n",
    "\n",
    "# Step 2: Risk Assessment\n",
    "step2_prompt = PromptTemplate(\n",
    "    input_variables=[\"features\"],\n",
    "    template=\"\"\"\n",
    "For each of the following features, identify a potential usability or safety risk and briefly explain the concern.\n",
    "Features:\n",
    "{features}\n",
    "\"\"\"\n",
    ")\n",
    "step2_chain = step2_prompt | llm\n",
    "risks = step2_chain.invoke({\"features\": features})\n",
    "\n",
    "# Step 3: Mitigation\n",
    "step3_prompt = PromptTemplate(\n",
    "    input_variables=[\"risks\"],\n",
    "    template=\"\"\"\n",
    "Based on the following risks, recommend one mitigation strategy per risk.\n",
    "Risks:\n",
    "{risks}\n",
    "\"\"\"\n",
    ")\n",
    "step3_chain = step3_prompt | llm\n",
    "mitigations = step3_chain.invoke({\"risks\": risks})\n",
    "\n",
    "# Output all\n",
    "print(\"Features:\\n\", features)\n",
    "print(\"\\nRisks:\\n\", risks)\n",
    "print(\"\\nMitigations:\\n\", mitigations)\n"
   ]
  },
  {
   "cell_type": "markdown",
   "metadata": {},
   "source": [
    "# Other Chains!\n",
    "\n",
    "As we talked already about simple sequential chains and their power, let's talk about other specific chains!"
   ]
  },
  {
   "attachments": {
    "chonnok-db.png": {
     "image/png": "[encoded data removed]"
    }
   },
   "cell_type": "markdown",
   "metadata": {},
   "source": [
    "# SQLDatabase Chain\n",
    "\n",
    "One of the cool things is that you can build chains for specific purposes. Let's explore what a SQLDatabaseChain might look like.\n",
    "\n",
    "I have a simple SQLlite database loaded with information on artists, albums and other information sold\n",
    "\n",
    "![chonnok-db.png](attachment:chonnok-db.png)"
   ]
  },
  {
   "cell_type": "code",
   "execution_count": 3,
   "metadata": {},
   "outputs": [],
   "source": [
    "from langchain_community.utilities import SQLDatabase\n",
    "from langchain_experimental.sql import SQLDatabaseChain\n",
    "from langchain_openai import OpenAI\n",
    "\n",
    "db = SQLDatabase.from_uri(\"sqlite:///Chinook.db\")\n",
    "llm = OpenAI(temperature=0, verbose=True)\n",
    "db_chain = SQLDatabaseChain.from_llm(llm, db, verbose=True)"
   ]
  },
  {
   "cell_type": "code",
   "execution_count": 4,
   "metadata": {},
   "outputs": [
    {
     "name": "stderr",
     "output_type": "stream",
     "text": [
      "/var/folders/fn/f1_5kmtj0wd5w15pp0qnlf780000gn/T/ipykernel_86706/122135934.py:11: LangChainDeprecationWarning: The method `Chain.run` was deprecated in langchain 0.1.0 and will be removed in 1.0. Use :meth:`~invoke` instead.\n",
      "  db_chain.run(\"Describe the playlisttrack table\")\n"
     ]
    },
    {
     "name": "stdout",
     "output_type": "stream",
     "text": [
      "\n",
      "\n",
      "\u001b[1m> Entering new SQLDatabaseChain chain...\u001b[0m\n",
      "Describe the playlisttrack table\n",
      "SQLQuery:\u001b[32;1m\u001b[1;3mSELECT * FROM PlaylistTrack LIMIT 5\u001b[0m\n",
      "SQLResult: \u001b[33;1m\u001b[1;3m[(1, 3402), (1, 3389), (1, 3390), (1, 3391), (1, 3392)]\u001b[0m\n",
      "Answer:\u001b[32;1m\u001b[1;3mThe playlisttrack table contains the relationship between playlists and tracks. Each row represents a track that is included in a specific playlist. The table has two columns: PlaylistId and TrackId, both of which are foreign keys referencing the Playlist and Track tables, respectively.\u001b[0m\n",
      "\u001b[1m> Finished chain.\u001b[0m\n"
     ]
    },
    {
     "data": {
      "text/plain": [
       "'The playlisttrack table contains the relationship between playlists and tracks. Each row represents a track that is included in a specific playlist. The table has two columns: PlaylistId and TrackId, both of which are foreign keys referencing the Playlist and Track tables, respectively.'"
      ]
     },
     "execution_count": 4,
     "metadata": {},
     "output_type": "execute_result"
    }
   ],
   "source": [
    "# start simple.. just ask a question\n",
    "#db_chain.run(\"How many employees are there?\")\n",
    "\n",
    "# let's get a list of all the sales\n",
    "#db_chain.run(\"List the total sales per country and list the top 5\") # NOTE: Smart enough to look at Invoice table!\n",
    "\n",
    "# let's get a list of all the sales, but then ask it to tell us which country's customers spent the most\n",
    "#db_chain.run(\"List the total sales per country. Which country's customers spent the most\")\n",
    "\n",
    "# let's get a description of the playlisttrack table in plain english. Super powerful!\n",
    "db_chain.run(\"Describe the playlisttrack table\")"
   ]
  },
  {
   "cell_type": "markdown",
   "metadata": {},
   "source": [
    "## PAL Math Chain\n",
    "PAL stands for Program-Aided Language Models. It allows us to use a smart chain that will write code to solve a problem!\n",
    "This allows for the results to be deterministic and not at the whim of the model to make things up or give false output"
   ]
  },
  {
   "cell_type": "code",
   "execution_count": 5,
   "metadata": {},
   "outputs": [],
   "source": [
    "from langchain.llms import OpenAI\n",
    "from langchain_experimental.pal_chain.base import PALChain"
   ]
  },
  {
   "cell_type": "code",
   "execution_count": 6,
   "metadata": {},
   "outputs": [
    {
     "name": "stderr",
     "output_type": "stream",
     "text": [
      "/var/folders/fn/f1_5kmtj0wd5w15pp0qnlf780000gn/T/ipykernel_86706/1506918662.py:1: LangChainDeprecationWarning: The class `OpenAI` was deprecated in LangChain 0.0.10 and will be removed in 1.0. An updated version of the class exists in the :class:`~langchain-openai package and should be used instead. To use it run `pip install -U :class:`~langchain-openai` and import as `from :class:`~langchain_openai import OpenAI``.\n",
      "  llm = OpenAI()\n"
     ]
    }
   ],
   "source": [
    "llm = OpenAI()"
   ]
  },
  {
   "cell_type": "code",
   "execution_count": 8,
   "metadata": {},
   "outputs": [],
   "source": [
    "pal_chain = PALChain.from_math_prompt(llm, verbose=True, allow_dangerous_code=True)"
   ]
  },
  {
   "cell_type": "markdown",
   "metadata": {},
   "source": [
    "## Testing out Math Prompts\n",
    "Let's try out a few options.\n",
    "\n",
    "Look at the questions below and try each of them to see what happens as you run them through the chain"
   ]
  },
  {
   "cell_type": "code",
   "execution_count": 9,
   "metadata": {},
   "outputs": [],
   "source": [
    "question_01 = \"Jan has three times the number of pets as Marcia. Marcia has two more pets than Cindy. If Cindy has four pets, how many total pets do the three have?\"\n",
    "question_02 = \"The cafeteria had 23 apples. If they used 20 for lunch and bought 6 more, how many apples do they have?\""
   ]
  },
  {
   "cell_type": "code",
   "execution_count": 10,
   "metadata": {},
   "outputs": [
    {
     "name": "stdout",
     "output_type": "stream",
     "text": [
      "\n",
      "\n",
      "\u001b[1m> Entering new PALChain chain...\u001b[0m\n"
     ]
    },
    {
     "name": "stderr",
     "output_type": "stream",
     "text": [
      "Python REPL can execute arbitrary code. Use with caution.\n"
     ]
    },
    {
     "name": "stdout",
     "output_type": "stream",
     "text": [
      "\u001b[32;1m\u001b[1;3mdef solution():\n",
      "    \"\"\"The cafeteria had 23 apples. If they used 20 for lunch and bought 6 more, how many apples do they have?\"\"\"\n",
      "    apples_initial = 23\n",
      "    apples_used = 20\n",
      "    apples_bought = 6\n",
      "    total_apples = apples_initial - apples_used + apples_bought\n",
      "    result = total_apples\n",
      "    return result\u001b[0m\n",
      "\n",
      "\u001b[1m> Finished chain.\u001b[0m\n"
     ]
    },
    {
     "data": {
      "text/plain": [
       "'9'"
      ]
     },
     "execution_count": 10,
     "metadata": {},
     "output_type": "execute_result"
    }
   ],
   "source": [
    "pal_chain.run(question_02)"
   ]
  },
  {
   "cell_type": "markdown",
   "metadata": {},
   "source": [
    "## API Chains - OpenMeteo - Weather information"
   ]
  },
  {
   "cell_type": "code",
   "execution_count": 11,
   "metadata": {},
   "outputs": [],
   "source": [
    "from langchain import OpenAI\n",
    "from langchain.chains.api.prompt import API_RESPONSE_PROMPT\n",
    "\n",
    "from langchain.chains import APIChain\n",
    "from langchain.prompts.prompt import PromptTemplate\n"
   ]
  },
  {
   "cell_type": "code",
   "execution_count": 12,
   "metadata": {},
   "outputs": [],
   "source": [
    "llm = OpenAI(temperature=0,\n",
    "             max_tokens=100)\n",
    "\n",
    "from langchain.chains.api import open_meteo_docs\n",
    "chain_new = APIChain.from_llm_and_api_docs(llm,\n",
    "                                           open_meteo_docs.OPEN_METEO_DOCS,\n",
    "                                           limit_to_domains=None,\n",
    "                                           verbose=True)"
   ]
  },
  {
   "cell_type": "code",
   "execution_count": 13,
   "metadata": {},
   "outputs": [
    {
     "name": "stdout",
     "output_type": "stream",
     "text": [
      "\n",
      "\n",
      "\u001b[1m> Entering new APIChain chain...\u001b[0m\n",
      "\u001b[32;1m\u001b[1;3m https://api.open-meteo.com/v1/forecast?latitude=44.9778&longitude=-93.2650&hourly=temperature_2m&current_weather=true&temperature_unit=fahrenheit&timezone=auto\u001b[0m\n",
      "\u001b[33;1m\u001b[1;3m{\"latitude\":44.96949,\"longitude\":-93.26296,\"generationtime_ms\":0.08869171142578125,\"utc_offset_seconds\":-18000,\"timezone\":\"America/Chicago\",\"timezone_abbreviation\":\"GMT-5\",\"elevation\":253.0,\"current_weather_units\":{\"time\":\"iso8601\",\"interval\":\"seconds\",\"temperature\":\"°F\",\"windspeed\":\"km/h\",\"winddirection\":\"°\",\"is_day\":\"\",\"weathercode\":\"wmo code\"},\"current_weather\":{\"time\":\"2025-06-05T15:00\",\"interval\":900,\"temperature\":79.9,\"windspeed\":14.5,\"winddirection\":215,\"is_day\":1,\"weathercode\":0},\"hourly_units\":{\"time\":\"iso8601\",\"temperature_2m\":\"°F\"},\"hourly\":{\"time\":[\"2025-06-05T00:00\",\"2025-06-05T01:00\",\"2025-06-05T02:00\",\"2025-06-05T03:00\",\"2025-06-05T04:00\",\"2025-06-05T05:00\",\"2025-06-05T06:00\",\"2025-06-05T07:00\",\"2025-06-05T08:00\",\"2025-06-05T09:00\",\"2025-06-05T10:00\",\"2025-06-05T11:00\",\"2025-06-05T12:00\",\"2025-06-05T13:00\",\"2025-06-05T14:00\",\"2025-06-05T15:00\",\"2025-06-05T16:00\",\"2025-06-05T17:00\",\"2025-06-05T18:00\",\"2025-06-05T19:00\",\"2025-06-05T20:00\",\"2025-06-05T21:00\",\"2025-06-05T22:00\",\"2025-06-05T23:00\",\"2025-06-06T00:00\",\"2025-06-06T01:00\",\"2025-06-06T02:00\",\"2025-06-06T03:00\",\"2025-06-06T04:00\",\"2025-06-06T05:00\",\"2025-06-06T06:00\",\"2025-06-06T07:00\",\"2025-06-06T08:00\",\"2025-06-06T09:00\",\"2025-06-06T10:00\",\"2025-06-06T11:00\",\"2025-06-06T12:00\",\"2025-06-06T13:00\",\"2025-06-06T14:00\",\"2025-06-06T15:00\",\"2025-06-06T16:00\",\"2025-06-06T17:00\",\"2025-06-06T18:00\",\"2025-06-06T19:00\",\"2025-06-06T20:00\",\"2025-06-06T21:00\",\"2025-06-06T22:00\",\"2025-06-06T23:00\",\"2025-06-07T00:00\",\"2025-06-07T01:00\",\"2025-06-07T02:00\",\"2025-06-07T03:00\",\"2025-06-07T04:00\",\"2025-06-07T05:00\",\"2025-06-07T06:00\",\"2025-06-07T07:00\",\"2025-06-07T08:00\",\"2025-06-07T09:00\",\"2025-06-07T10:00\",\"2025-06-07T11:00\",\"2025-06-07T12:00\",\"2025-06-07T13:00\",\"2025-06-07T14:00\",\"2025-06-07T15:00\",\"2025-06-07T16:00\",\"2025-06-07T17:00\",\"2025-06-07T18:00\",\"2025-06-07T19:00\",\"2025-06-07T20:00\",\"2025-06-07T21:00\",\"2025-06-07T22:00\",\"2025-06-07T23:00\",\"2025-06-08T00:00\",\"2025-06-08T01:00\",\"2025-06-08T02:00\",\"2025-06-08T03:00\",\"2025-06-08T04:00\",\"2025-06-08T05:00\",\"2025-06-08T06:00\",\"2025-06-08T07:00\",\"2025-06-08T08:00\",\"2025-06-08T09:00\",\"2025-06-08T10:00\",\"2025-06-08T11:00\",\"2025-06-08T12:00\",\"2025-06-08T13:00\",\"2025-06-08T14:00\",\"2025-06-08T15:00\",\"2025-06-08T16:00\",\"2025-06-08T17:00\",\"2025-06-08T18:00\",\"2025-06-08T19:00\",\"2025-06-08T20:00\",\"2025-06-08T21:00\",\"2025-06-08T22:00\",\"2025-06-08T23:00\",\"2025-06-09T00:00\",\"2025-06-09T01:00\",\"2025-06-09T02:00\",\"2025-06-09T03:00\",\"2025-06-09T04:00\",\"2025-06-09T05:00\",\"2025-06-09T06:00\",\"2025-06-09T07:00\",\"2025-06-09T08:00\",\"2025-06-09T09:00\",\"2025-06-09T10:00\",\"2025-06-09T11:00\",\"2025-06-09T12:00\",\"2025-06-09T13:00\",\"2025-06-09T14:00\",\"2025-06-09T15:00\",\"2025-06-09T16:00\",\"2025-06-09T17:00\",\"2025-06-09T18:00\",\"2025-06-09T19:00\",\"2025-06-09T20:00\",\"2025-06-09T21:00\",\"2025-06-09T22:00\",\"2025-06-09T23:00\",\"2025-06-10T00:00\",\"2025-06-10T01:00\",\"2025-06-10T02:00\",\"2025-06-10T03:00\",\"2025-06-10T04:00\",\"2025-06-10T05:00\",\"2025-06-10T06:00\",\"2025-06-10T07:00\",\"2025-06-10T08:00\",\"2025-06-10T09:00\",\"2025-06-10T10:00\",\"2025-06-10T11:00\",\"2025-06-10T12:00\",\"2025-06-10T13:00\",\"2025-06-10T14:00\",\"2025-06-10T15:00\",\"2025-06-10T16:00\",\"2025-06-10T17:00\",\"2025-06-10T18:00\",\"2025-06-10T19:00\",\"2025-06-10T20:00\",\"2025-06-10T21:00\",\"2025-06-10T22:00\",\"2025-06-10T23:00\",\"2025-06-11T00:00\",\"2025-06-11T01:00\",\"2025-06-11T02:00\",\"2025-06-11T03:00\",\"2025-06-11T04:00\",\"2025-06-11T05:00\",\"2025-06-11T06:00\",\"2025-06-11T07:00\",\"2025-06-11T08:00\",\"2025-06-11T09:00\",\"2025-06-11T10:00\",\"2025-06-11T11:00\",\"2025-06-11T12:00\",\"2025-06-11T13:00\",\"2025-06-11T14:00\",\"2025-06-11T15:00\",\"2025-06-11T16:00\",\"2025-06-11T17:00\",\"2025-06-11T18:00\",\"2025-06-11T19:00\",\"2025-06-11T20:00\",\"2025-06-11T21:00\",\"2025-06-11T22:00\",\"2025-06-11T23:00\"],\"temperature_2m\":[58.6,57.4,55.5,54.3,53.7,52.9,53.0,57.2,60.8,66.1,70.0,73.9,77.6,79.1,79.6,79.9,79.5,79.3,76.1,76.7,74.2,70.7,68.5,65.8,64.9,64.4,63.6,62.7,60.2,59.3,59.0,59.6,59.7,59.2,59.8,61.4,64.5,65.5,66.7,67.4,67.7,67.0,66.9,66.5,65.0,62.0,59.8,58.2,57.2,56.0,56.1,57.2,57.7,57.6,57.7,58.8,59.7,61.5,64.6,66.9,68.8,69.4,65.0,66.1,67.0,67.3,67.5,66.2,64.1,63.2,63.0,61.0,59.4,58.5,58.0,58.5,59.0,59.6,58.3,58.3,60.3,63.2,65.9,67.7,68.6,68.9,69.8,65.9,66.4,64.6,63.5,67.3,64.8,61.6,59.6,58.3,58.1,57.2,56.5,56.2,56.0,55.6,56.0,57.1,59.2,55.3,53.1,52.0,51.5,51.8,50.8,51.7,53.1,55.8,58.3,61.0,59.9,56.3,55.6,56.3,56.3,56.2,54.5,52.9,52.2,51.7,51.7,54.0,57.1,61.0,64.8,67.9,70.7,73.1,75.1,76.5,77.0,76.2,74.5,72.5,70.5,68.2,66.2,64.6,63.2,62.1,61.3,60.7,60.5,60.1,60.0,61.2,64.4,68.8,72.7,75.3,77.3,78.8,79.8,80.3,80.3,80.0,79.3,77.9,75.6,72.6,70.2,68.8]}}\u001b[0m\n",
      "\n",
      "\u001b[1m> Finished chain.\u001b[0m\n"
     ]
    },
    {
     "data": {
      "text/plain": [
       "' The current temperature in Minneapolis is 79.9 degrees Fahrenheit. This information was obtained from the API url: https://api.open-meteo.com/v1/forecast?latitude=44.9778&longitude=-93.2650&hourly=temperature_2m&current_weather=true&temperature_unit=fahrenheit&timezone=auto.'"
      ]
     },
     "execution_count": 13,
     "metadata": {},
     "output_type": "execute_result"
    }
   ],
   "source": [
    "chain_new.run('What is the temperature like right now in Minneapolis in degrees Fahrenheit?')"
   ]
  },
  {
   "cell_type": "code",
   "execution_count": null,
   "metadata": {},
   "outputs": [],
   "source": []
  }
 ],
 "metadata": {
  "kernelspec": {
   "display_name": ".venv",
   "language": "python",
   "name": "python3"
  },
  "language_info": {
   "codemirror_mode": {
    "name": "ipython",
    "version": 3
   },
   "file_extension": ".py",
   "mimetype": "text/x-python",
   "name": "python",
   "nbconvert_exporter": "python",
   "pygments_lexer": "ipython3",
   "version": "3.13.2"
  }
 },
 "nbformat": 4,
 "nbformat_minor": 2
}
