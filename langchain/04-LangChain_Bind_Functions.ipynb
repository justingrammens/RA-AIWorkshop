{
 "cells": [
  {
   "cell_type": "markdown",
   "metadata": {},
   "source": [
    "# Binding Functions\n",
    "\n",
    "You can create your own functions to be called when a model is called as well. Outside of the functions that OpenAI creates. Let's create our own function to get the current time."
   ]
  },
  {
   "cell_type": "code",
   "execution_count": null,
   "metadata": {},
   "outputs": [],
   "source": [
    "pip install -q openai pytz"
   ]
  },
  {
   "cell_type": "code",
   "execution_count": 1,
   "metadata": {},
   "outputs": [],
   "source": [
    "import json\n",
    "from datetime import datetime\n",
    "import pytz\n",
    "\n",
    "# Example dummy function hard coded to return the same weather\n",
    "# In production, this could be your backend API or an external API\n",
    "def get_current_time(time_zone):\n",
    "    \"\"\"Get the current time in a given location\"\"\"\n",
    "    time = datetime.now(pytz.timezone(time_zone))\n",
    "    time_info = {\n",
    "        \"time_zone\": time_zone,\n",
    "        \"time\": str(time),\n",
    "    }\n",
    "    return json.dumps(time_info)"
   ]
  },
  {
   "cell_type": "code",
   "execution_count": 2,
   "metadata": {},
   "outputs": [],
   "source": [
    "# define a function\n",
    "functions = [\n",
    "    {\n",
    "        \"name\": \"get_current_time\",\n",
    "        \"description\": \"Get the current time given a location\",\n",
    "        \"parameters\": {\n",
    "            \"type\": \"object\",\n",
    "            \"properties\": {\n",
    "                \"time_zone\": {\n",
    "                    \"type\": \"string\",\n",
    "                    \"description\": \"The time zone of the location we want to find the time for\",\n",
    "                },\n",
    "            },\n",
    "            \"required\": [\"time_zone\"],\n",
    "        },\n",
    "    }\n",
    "]"
   ]
  },
  {
   "cell_type": "code",
   "execution_count": null,
   "metadata": {},
   "outputs": [],
   "source": [
    "messages = [\n",
    "    {\n",
    "        \"role\": \"user\",\n",
    "        \"content\": \"What's the time in Minneapolis using a 24 hour clock?\"\n",
    "        # TRY CHANGING IT TO THIS AND SEE WHAT HAPPENS!\n",
    "        #\"content\": \"What's the size of the moon?\"\n",
    "    }\n",
    "]"
   ]
  },
  {
   "cell_type": "code",
   "execution_count": 13,
   "metadata": {},
   "outputs": [],
   "source": [
    "from openai import OpenAI\n",
    "client = OpenAI()\n",
    "\n",
    "response = client.chat.completions.create(\n",
    "    model=\"gpt-4o\",\n",
    "    messages=messages,\n",
    "    functions=functions\n",
    ")"
   ]
  },
  {
   "cell_type": "code",
   "execution_count": 14,
   "metadata": {},
   "outputs": [
    {
     "name": "stdout",
     "output_type": "stream",
     "text": [
      "None\n"
     ]
    }
   ],
   "source": [
    "\n",
    "print(response.choices[0].message.function_call)\n",
    "#args = response.choices[0].message.function_call.arguments\n",
    "if response.choices[0].message.function_call is None:\n",
    "    args = {}\n",
    "else:\n",
    "    args = json.loads(response.choices[0].message.function_call.arguments)\n",
    "\n",
    "    # Let's create another message that has the role of \"function\"\n",
    "    messages.append(\n",
    "        {\n",
    "            \"role\": \"function\", #note this role is \"function\" this is how the model knows this the response is from the function\n",
    "            \"name\": \"get_current_time\",\n",
    "            \"content\": get_current_time(args[\"time_zone\"]),\n",
    "        }\n",
    "    )\n"
   ]
  },
  {
   "cell_type": "code",
   "execution_count": 15,
   "metadata": {},
   "outputs": [
    {
     "name": "stdout",
     "output_type": "stream",
     "text": [
      "[\n",
      "  {\n",
      "    \"role\": \"user\",\n",
      "    \"content\": \"What's the size of the moon?\"\n",
      "  }\n",
      "]\n",
      "The Moon has a diameter of about 3,474 kilometers (2,159 miles), making it the fifth-largest natural satellite in the Solar System. Its surface area is approximately 37.9 million square kilometers (14.6 million square miles), which is about 7.4% of the Earth's total surface area. The Moon's volume is about 21.9 billion cubic kilometers (5.29 billion cubic miles), and its mass is about 7.35 x 10^22 kilograms, which is roughly 1/81st of Earth's mass.\n"
     ]
    }
   ],
   "source": [
    "response = client.chat.completions.create(\n",
    "    model=\"gpt-4o\",\n",
    "    messages=messages,\n",
    "    functions=functions\n",
    ")\n",
    "\n",
    "print(json.dumps(messages, indent=2))\n",
    "print (response.choices[0].message.content)"
   ]
  },
  {
   "cell_type": "code",
   "execution_count": null,
   "metadata": {},
   "outputs": [],
   "source": []
  }
 ],
 "metadata": {
  "kernelspec": {
   "display_name": ".venv",
   "language": "python",
   "name": "python3"
  },
  "language_info": {
   "codemirror_mode": {
    "name": "ipython",
    "version": 3
   },
   "file_extension": ".py",
   "mimetype": "text/x-python",
   "name": "python",
   "nbconvert_exporter": "python",
   "pygments_lexer": "ipython3",
   "version": "3.13.2"
  }
 },
 "nbformat": 4,
 "nbformat_minor": 2
}
