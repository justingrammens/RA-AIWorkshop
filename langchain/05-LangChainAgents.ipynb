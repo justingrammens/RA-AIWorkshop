{
 "cells": [
  {
   "cell_type": "markdown",
   "metadata": {},
   "source": [
    "# LangChain Agents!\n",
    "\n",
    "NOTE: You will need a Google Search API Key.\n",
    "You can get a key for free from https://serpapi.com/\n",
    "\n",
    "Make sure that you have an environment variable named: SERPAPI_API_KEY\n",
    "with the value being the value of your key"
   ]
  },
  {
   "cell_type": "code",
   "execution_count": 1,
   "metadata": {},
   "outputs": [
    {
     "name": "stdout",
     "output_type": "stream",
     "text": [
      "\n",
      "\u001b[1m[\u001b[0m\u001b[34;49mnotice\u001b[0m\u001b[1;39;49m]\u001b[0m\u001b[39;49m A new release of pip is available: \u001b[0m\u001b[31;49m25.0\u001b[0m\u001b[39;49m -> \u001b[0m\u001b[32;49m25.1.1\u001b[0m\n",
      "\u001b[1m[\u001b[0m\u001b[34;49mnotice\u001b[0m\u001b[1;39;49m]\u001b[0m\u001b[39;49m To update, run: \u001b[0m\u001b[32;49mpip install --upgrade pip\u001b[0m\n",
      "Note: you may need to restart the kernel to use updated packages.\n"
     ]
    }
   ],
   "source": [
    "pip -q install langchain openai google-search-results tiktoken wikipedia numexpr"
   ]
  },
  {
   "cell_type": "code",
   "execution_count": 2,
   "metadata": {},
   "outputs": [],
   "source": [
    "from langchain.agents import load_tools\n",
    "from langchain.agents import initialize_agent\n",
    "from langchain.llms import OpenAI"
   ]
  },
  {
   "cell_type": "code",
   "execution_count": 3,
   "metadata": {},
   "outputs": [
    {
     "name": "stderr",
     "output_type": "stream",
     "text": [
      "/var/folders/fn/f1_5kmtj0wd5w15pp0qnlf780000gn/T/ipykernel_87243/3183534344.py:1: LangChainDeprecationWarning: The class `OpenAI` was deprecated in LangChain 0.0.10 and will be removed in 1.0. An updated version of the class exists in the :class:`~langchain-openai package and should be used instead. To use it run `pip install -U :class:`~langchain-openai` and import as `from :class:`~langchain_openai import OpenAI``.\n",
      "  llm = OpenAI(temperature=0)\n"
     ]
    }
   ],
   "source": [
    "llm = OpenAI(temperature=0)"
   ]
  },
  {
   "cell_type": "code",
   "execution_count": 4,
   "metadata": {},
   "outputs": [],
   "source": [
    "tools = load_tools([\"serpapi\", \"llm-math\"], llm=llm)"
   ]
  },
  {
   "cell_type": "code",
   "execution_count": 5,
   "metadata": {},
   "outputs": [
    {
     "data": {
      "text/plain": [
       "('Search',\n",
       " 'A search engine. Useful for when you need to answer questions about current events. Input should be a search query.')"
      ]
     },
     "execution_count": 5,
     "metadata": {},
     "output_type": "execute_result"
    }
   ],
   "source": [
    "# What is a tool like this\n",
    "tools[0].name, tools[0].description"
   ]
  },
  {
   "cell_type": "code",
   "execution_count": 6,
   "metadata": {},
   "outputs": [
    {
     "name": "stderr",
     "output_type": "stream",
     "text": [
      "/var/folders/fn/f1_5kmtj0wd5w15pp0qnlf780000gn/T/ipykernel_87243/1334005195.py:1: LangChainDeprecationWarning: LangChain agents will continue to be supported, but it is recommended for new use cases to be built with LangGraph. LangGraph offers a more flexible and full-featured framework for building agents, including support for tool-calling, persistence of state, and human-in-the-loop workflows. For details, refer to the `LangGraph documentation <https://langchain-ai.github.io/langgraph/>`_ as well as guides for `Migrating from AgentExecutor <https://python.langchain.com/docs/how_to/migrate_agent/>`_ and LangGraph's `Pre-built ReAct agent <https://langchain-ai.github.io/langgraph/how-tos/create-react-agent/>`_.\n",
      "  agent = initialize_agent(tools,\n"
     ]
    }
   ],
   "source": [
    "agent = initialize_agent(tools, \n",
    "                         llm, \n",
    "                         agent=\"zero-shot-react-description\", \n",
    "                         verbose=True,\n",
    "                         handle_parsing_errors=True)"
   ]
  },
  {
   "cell_type": "code",
   "execution_count": 7,
   "metadata": {},
   "outputs": [
    {
     "data": {
      "text/plain": [
       "'Answer the following questions as best you can. You have access to the following tools:\\n\\nSearch(query: str, **kwargs: Any) -> str - A search engine. Useful for when you need to answer questions about current events. Input should be a search query.\\nCalculator(*args: Any, callbacks: Union[list[langchain_core.callbacks.base.BaseCallbackHandler], langchain_core.callbacks.base.BaseCallbackManager, NoneType] = None, tags: Optional[list[str]] = None, metadata: Optional[dict[str, Any]] = None, **kwargs: Any) -> Any - Useful for when you need to answer questions about math.\\n\\nUse the following format:\\n\\nQuestion: the input question you must answer\\nThought: you should always think about what to do\\nAction: the action to take, should be one of [Search, Calculator]\\nAction Input: the input to the action\\nObservation: the result of the action\\n... (this Thought/Action/Action Input/Observation can repeat N times)\\nThought: I now know the final answer\\nFinal Answer: the final answer to the original input question\\n\\nBegin!\\n\\nQuestion: {input}\\nThought:{agent_scratchpad}'"
      ]
     },
     "execution_count": 7,
     "metadata": {},
     "output_type": "execute_result"
    }
   ],
   "source": [
    "# take a look at the template!\n",
    "# NOTE!!!! : The agent already has built up a prompt template for us based on the description of the tool\n",
    "agent.agent.llm_chain.prompt.template"
   ]
  },
  {
   "cell_type": "markdown",
   "metadata": {},
   "source": [
    "# Chain Of Thought\n",
    "\n",
    "Running these question on the agents will cause it to get through a series of observations and thoughts.\n",
    "See below!"
   ]
  },
  {
   "cell_type": "code",
   "execution_count": 8,
   "metadata": {},
   "outputs": [
    {
     "name": "stderr",
     "output_type": "stream",
     "text": [
      "/var/folders/fn/f1_5kmtj0wd5w15pp0qnlf780000gn/T/ipykernel_87243/4271694833.py:1: LangChainDeprecationWarning: The method `Chain.run` was deprecated in langchain 0.1.0 and will be removed in 1.0. Use :meth:`~invoke` instead.\n",
      "  agent.run(\"Hi, How are you today?\")\n"
     ]
    },
    {
     "name": "stdout",
     "output_type": "stream",
     "text": [
      "\n",
      "\n",
      "\u001b[1m> Entering new AgentExecutor chain...\u001b[0m\n",
      "\u001b[32;1m\u001b[1;3m This is not a question that requires a specific tool to answer.\n",
      "Final Answer: I am an AI and do not have emotions, so I am always ready to assist you with any questions you may have.\u001b[0m\n",
      "\n",
      "\u001b[1m> Finished chain.\u001b[0m\n"
     ]
    },
    {
     "data": {
      "text/plain": [
       "'I am an AI and do not have emotions, so I am always ready to assist you with any questions you may have.'"
      ]
     },
     "execution_count": 8,
     "metadata": {},
     "output_type": "execute_result"
    }
   ],
   "source": [
    "agent.run(\"Hi, How are you today?\")"
   ]
  },
  {
   "cell_type": "code",
   "execution_count": 9,
   "metadata": {},
   "outputs": [
    {
     "name": "stdout",
     "output_type": "stream",
     "text": [
      "\n",
      "\n",
      "\u001b[1m> Entering new AgentExecutor chain...\u001b[0m\n",
      "\u001b[32;1m\u001b[1;3m I should use the search engine to find the answer.\n",
      "Action: Search\n",
      "Action Input: \"current president of the United States\"\u001b[0m\n",
      "Observation: \u001b[36;1m\u001b[1;3mDonald Trump\u001b[0m\n",
      "Thought:\u001b[32;1m\u001b[1;3m I should double check to make sure this is the most recent information.\n",
      "Action: Search\n",
      "Action Input: \"who is the current president of the United States\"\u001b[0m\n",
      "Observation: \u001b[36;1m\u001b[1;3mDonald Trump\u001b[0m\n",
      "Thought:\u001b[32;1m\u001b[1;3m I should also check for any recent news articles about the president.\n",
      "Action: Search\n",
      "Action Input: \"recent news articles about the president of the United States\"\u001b[0m\n",
      "Observation: \u001b[36;1m\u001b[1;3m[{'title': \"Donald Trump orders inquiry into Joe Biden's actions as president, alleging 'cognitive decline'\", 'link': 'https://www.bbc.com/news/articles/cvg9z9veyr1o', 'source': 'BBC', 'source_logo': 'https://serpapi.com/searches/6841f869e171b937ed4308c6/images/956968f488893ea63986f094b18cd8ddc7ce915951214f3e0c2c85b1889ffcf3.png', 'date': '15 hours ago', 'thumbnail': 'https://serpapi.com/searches/6841f869e171b937ed4308c6/images/956968f488893ea6c059b412171497da32a6dc99c655dfc9.jpeg'}, {'title': 'Reviewing Certain Presidential Actions', 'link': 'https://www.whitehouse.gov/presidential-actions/2025/06/reviewing-certain-presidential-actions/', 'source': 'The White House (.gov)', 'source_logo': 'https://serpapi.com/searches/6841f869e171b937ed4308c6/images/956968f488893ea69cfcbdd5338c932eb6da53963b83ae0d5d251607ee0528cc.png', 'date': '20 hours ago', 'thumbnail': 'https://serpapi.com/searches/6841f869e171b937ed4308c6/images/956968f488893ea6c6bbab284b1d36ba9fc84744a2b52ac8.png'}, {'title': 'Fact Sheet: President Donald J. Trump Directs Review of Certain Presidential Actions', 'link': 'https://www.whitehouse.gov/fact-sheets/2025/06/fact-sheet-president-donald-j-trump-directs-review-of-certain-presidential-actions/', 'source': 'The White House (.gov)', 'source_logo': 'https://serpapi.com/searches/6841f869e171b937ed4308c6/images/956968f488893ea605982ec1b23bc8a5f4e08f959c66d4a5f09b9ff81569dfd7.png', 'date': '20 hours ago'}]\u001b[0m\n",
      "Thought:\u001b[32;1m\u001b[1;3m It seems like there have been some recent developments regarding the president.\n",
      "Action: Search\n",
      "Action Input: \"recent developments regarding the president of the United States\"\u001b[0m\n",
      "Observation: \u001b[36;1m\u001b[1;3m[{'title': \"Donald Trump orders inquiry into Joe Biden's actions as president, alleging 'cognitive decline'\", 'link': 'https://www.bbc.com/news/articles/cvg9z9veyr1o', 'source': 'BBC', 'source_logo': 'https://serpapi.com/searches/6841f86b99d5f4a399428287/images/90b754a37aaa42c5d5eb1a0b9cb3e0bd74d2e9e579d4d33b1ad5773d89ac8f3c.png', 'date': '15 hours ago', 'thumbnail': 'https://encrypted-tbn0.gstatic.com/images?q=tbn:ANd9GcTZc7UfRabTL8tM1oqY-nCjV7CidrlC2fwAax_CzqyrD8ysO-izHDFxLsg&usqp=CAI&s'}, {'title': 'Reviewing Certain Presidential Actions', 'link': 'https://www.whitehouse.gov/presidential-actions/2025/06/reviewing-certain-presidential-actions/', 'source': 'The White House (.gov)', 'source_logo': 'https://serpapi.com/searches/6841f86b99d5f4a399428287/images/90b754a37aaa42c5f1137bc1c45974aa96378698b1d65b33770e81ddfb3b1c6f.png', 'date': '20 hours ago', 'thumbnail': 'https://encrypted-tbn0.gstatic.com/images?q=tbn:ANd9GcQYfqzTMutm1niTYfzGRkytI1kycFMEXyjM81rXqS0peRnlQOekL0tz8Pk&usqp=CAI&s'}, {'title': 'Fact Sheet: President Donald J. Trump Directs Review of Certain Presidential Actions', 'link': 'https://www.whitehouse.gov/fact-sheets/2025/06/fact-sheet-president-donald-j-trump-directs-review-of-certain-presidential-actions/', 'source': 'The White House (.gov)', 'source_logo': 'https://serpapi.com/searches/6841f86b99d5f4a399428287/images/90b754a37aaa42c56ee5057ebc497825434ae1b8909c8ce7a9e0281ad79df036.png', 'date': '20 hours ago'}, {'title': 'Trump orders inquiry into Biden’s actions as president over ‘cognitive decline’ reports', 'link': 'https://www.theguardian.com/us-news/2025/jun/04/trump-inquiry-biden', 'source': 'The Guardian', 'source_logo': 'https://serpapi.com/searches/6841f86b99d5f4a399428287/images/90b754a37aaa42c592a29657843eb7378f8c409e8d6fddeca84a47326dca8b58.png', 'date': '20 hours ago', 'thumbnail': 'https://encrypted-tbn0.gstatic.com/images?q=tbn:ANd9GcQZZQmyC0aTbdbVa8nBlUhiK0cKORtd4tZFXXblRpuFWL4a4iXB9dcG354&usqp=CAI&s'}]\u001b[0m\n",
      "Thought:\u001b[32;1m\u001b[1;3m It looks like there have been multiple sources reporting on this topic.\n",
      "Action: Search\n",
      "Action Input: \"multiple sources reporting on recent developments regarding the president of the United States\"\u001b[0m\n",
      "Observation: \u001b[36;1m\u001b[1;3m['The latest transcripts, proclamations, executive orders, and press releases from The White House.', 'During his first, 2017-21 term in office, Trump announced a ban on travelers from seven Muslim-majority nations, a policy that went through ...', 'COMBATING TERRORISM THROUGH COMMON SENSE SECURITY STANDARDS: Today, President Donald J. Trump signed a Proclamation to protect the nation ...', \"Changes to White House Coverage; Hostility to the Press; Lessons From Trump's First Term; The Editing Process; Calling Out 'Lies'; Trust in ...\", 'Different news sources report on the president and the executive branch using varying styles influenced by communication preferences, news ...', 'The Reg Tracker focuses on major regulatory changes implemented under the current Trump administration. Entries we tracked during the Biden administration and ...', 'The public is split on whether Trump will be a successful president. Roughly a third of the public (35%) says Trump will be a successful president in the long ...', 'The American Presidency Project · American President: A Reference · The Avalon Project · Commission on Presidential Debates · Library of Congress: ...', 'President Trump began to issue numerous executive actions, several of which directly address or affect US global health efforts.', 'This In Focus examines key aspects of executive orders and the executive order process with an eye toward their use during transitions.']\u001b[0m\n",
      "Thought:\u001b[32;1m\u001b[1;3m It seems like there is a lot of information available about the current president.\n",
      "Thought: I now know the final answer.\n",
      "Final Answer: The current president of the United States is Donald Trump.\u001b[0m\n",
      "\n",
      "\u001b[1m> Finished chain.\u001b[0m\n"
     ]
    },
    {
     "data": {
      "text/plain": [
       "'The current president of the United States is Donald Trump.'"
      ]
     },
     "execution_count": 9,
     "metadata": {},
     "output_type": "execute_result"
    }
   ],
   "source": [
    "\n",
    "agent.run(\"Who is the current president of the United States?\")\n"
   ]
  },
  {
   "cell_type": "code",
   "execution_count": 10,
   "metadata": {},
   "outputs": [
    {
     "name": "stdout",
     "output_type": "stream",
     "text": [
      "\n",
      "\n",
      "\u001b[1m> Entering new AgentExecutor chain...\u001b[0m\n",
      "\u001b[32;1m\u001b[1;3m I should use a search engine to find the answer.\n",
      "Action: Search\n",
      "Action Input: \"average age United States\"\u001b[0m\n",
      "Observation: \u001b[36;1m\u001b[1;3m[\"The nation's median age increased by 0.2 years to 38.9 years between 2021 and 2022, according to Vintage 2022 Population Estimates released ...\", 'In 2023, the median age of the population of the United States was 39.2 years. While this may seem quite young, the median age in 1960 was even ...', 'Median Age. The median age in the United States is 38.5 years (2025).', 'Age and sex distribution ; 0–14 years, 18.2% ; 15–24 years, 13.0% ; 25–54 years, 39.0% ; 55–64 years, 12.9%.', \"New census data shows that the country's median age is now over 38. In 1980, it was 30.\", 'In 2005, it was 28.1 years. Among the 216 countries evaluated here, the USA are in 64th place with an median age of 38.9 years, led by Monaco at 56.9 years.', 'In 2022 the U.S. had a median age of 39, but the median age by state ranged from the low 30s to the mid 40s.', 'The Mean age in United States of America attained a value of 39.60 years in 2024. The indicator recorded a historical growth (CAGR) of 0.40% between 2021 to ...', \"Median age. Shows the age that divides a country's population into two ... United States, 38.9, 2022 est. 70, Armenia, 38.9, 2024 est. 71, Seychelles, 38.7 ...\", 'Living in the same house 1 year ago, percent of persons age 1 year+ , 2019-2023, 87.3%. Language other than English spoken at home, percent of persons age 5 ...']\u001b[0m\n",
      "Thought:\u001b[32;1m\u001b[1;3m I should use a calculator to find the average of these ages.\n",
      "Action: Calculator\n",
      "Action Input: 38.9, 39.2, 38.5, 38.9, 38.9, 38.7\u001b[0m\n",
      "Observation: \u001b[33;1m\u001b[1;3mAnswer: 38.85\u001b[0m\n",
      "Thought:\u001b[32;1m\u001b[1;3m I now know the final answer.\n",
      "Final Answer: The average age in the United States is 38.85 years.\u001b[0m\n",
      "\n",
      "\u001b[1m> Finished chain.\u001b[0m\n"
     ]
    },
    {
     "data": {
      "text/plain": [
       "'The average age in the United States is 38.85 years.'"
      ]
     },
     "execution_count": 10,
     "metadata": {},
     "output_type": "execute_result"
    }
   ],
   "source": [
    "agent.run(\"What is the average age in the United States?\")\n"
   ]
  },
  {
   "cell_type": "markdown",
   "metadata": {},
   "source": [
    "# Smarter Agent\n",
    "\n",
    "Let's make an even smarter agent that can do more things!"
   ]
  },
  {
   "cell_type": "code",
   "execution_count": null,
   "metadata": {},
   "outputs": [],
   "source": [
    "tools = load_tools([\"serpapi\", \"llm-math\",\"wikipedia\",\"terminal\"], llm=llm, allow_dangerous_tools=True)\n",
    "# NOTE: terminal tool is dangerous, use with caution!!!!"
   ]
  },
  {
   "cell_type": "code",
   "execution_count": 14,
   "metadata": {},
   "outputs": [],
   "source": [
    "agent = initialize_agent(tools, \n",
    "                         llm, \n",
    "                         agent=\"zero-shot-react-description\", \n",
    "                         verbose=True)"
   ]
  },
  {
   "cell_type": "code",
   "execution_count": 15,
   "metadata": {},
   "outputs": [
    {
     "data": {
      "text/plain": [
       "'Answer the following questions as best you can. You have access to the following tools:\\n\\nSearch(query: str, **kwargs: Any) -> str - A search engine. Useful for when you need to answer questions about current events. Input should be a search query.\\nCalculator(*args: Any, callbacks: Union[list[langchain_core.callbacks.base.BaseCallbackHandler], langchain_core.callbacks.base.BaseCallbackManager, NoneType] = None, tags: Optional[list[str]] = None, metadata: Optional[dict[str, Any]] = None, **kwargs: Any) -> Any - Useful for when you need to answer questions about math.\\nwikipedia - A wrapper around Wikipedia. Useful for when you need to answer general questions about people, places, companies, facts, historical events, or other subjects. Input should be a search query.\\nterminal - Run shell commands on this MacOS machine.\\n\\nUse the following format:\\n\\nQuestion: the input question you must answer\\nThought: you should always think about what to do\\nAction: the action to take, should be one of [Search, Calculator, wikipedia, terminal]\\nAction Input: the input to the action\\nObservation: the result of the action\\n... (this Thought/Action/Action Input/Observation can repeat N times)\\nThought: I now know the final answer\\nFinal Answer: the final answer to the original input question\\n\\nBegin!\\n\\nQuestion: {input}\\nThought:{agent_scratchpad}'"
      ]
     },
     "execution_count": 15,
     "metadata": {},
     "output_type": "execute_result"
    }
   ],
   "source": [
    "agent.agent.llm_chain.prompt.template"
   ]
  },
  {
   "cell_type": "code",
   "execution_count": 16,
   "metadata": {},
   "outputs": [
    {
     "name": "stdout",
     "output_type": "stream",
     "text": [
      "\n",
      "\n",
      "\u001b[1m> Entering new AgentExecutor chain...\u001b[0m\n",
      "\u001b[32;1m\u001b[1;3m I should use the wikipedia tool to search for information about Apple's headquarters.\n",
      "Action: wikipedia\n",
      "Action Input: \"Apple headquarters\"\u001b[0m\n",
      "Observation: \u001b[38;5;200m\u001b[1;3mPage: Apple Park\n",
      "Summary: Apple Park, also known as Apple Campus 2, is the corporate headquarters of Apple Inc., located in Cupertino, California, United States. It was opened to employees in April 2017, while construction was still underway. It replaced Apple Campus as the company's corporate headquarters.\n",
      "The main building's scale and circular groundscraper design, by Norman Foster, has earned the structure the media nickname \"the spaceship\". Located on a suburban site totaling 1.46 km2 (360 acres), it houses more than 12,000 employees in one central four-story circular building of approximately 0.26 km2 (64 acres). Apple co-founder Steve Jobs wanted the campus to look less like a business park and more like a nature refuge; 80 percent of the site consists of green space planted with drought-resistant trees and plants indigenous to the Cupertino area, and the center courtyard of the main building features an artificial pond.\n",
      "\n",
      "\n",
      "\n",
      "Page: Apple Infinite Loop campus\n",
      "Summary: The Apple Campus is the former corporate headquarters of Apple Inc. from 1993 until 2017. In April 2017, it was largely replaced by Apple Park (aka Apple Campus 2), but is still an Apple office and lab space. The campus is located at 1 Infinite Loop in Cupertino, California, United States. Its design resembles that of a university, with the buildings arranged around green spaces.\n",
      "\n",
      "Page: Apple Corps\n",
      "Summary: Apple Corps Limited is a British multimedia company that was established in London by the members of the Beatles in the 1960s to form a conglomerate. The company's name, pronounced \"apple core\", is a pun. Its chief division is Apple Records, which was launched in 1968. Other divisions included Apple Electronics, Apple Films, Apple Publishing, and Apple Retail, with the latter's most notable venture being the short-lived Apple Boutique on the corner of Baker Street and Paddington Street in London.\n",
      "Apple's headquarters during the late 1960s was on the upper floors of 94 Baker Street, then at 95 Wigmore Street, and subsequently at 3 Savile Row. The last of these addresses was also known as the Apple Building, which was home to the Apple studio. From 1970 to 2007, Apple's chief executive was former Beatles road manager Neil Aspinall, although he did not officially bear the CEO title until Allen Klein had left the company. In April 2007, Jeff Jones became the chief executive. In 2010, Apple Corps ranked number two on the Fast Company magazine's list of the world's most innovative companies in the music industry, thanks to the release of The Beatles: Rock Band video game and the remastering of the Beatles' catalogue.\u001b[0m\n",
      "Thought:\u001b[32;1m\u001b[1;3m I now know the final answer.\n",
      "Final Answer: Apple's office headquarters is located at Apple Park in Cupertino, California.\u001b[0m\n",
      "\n",
      "\u001b[1m> Finished chain.\u001b[0m\n"
     ]
    },
    {
     "data": {
      "text/plain": [
       "\"Apple's office headquarters is located at Apple Park in Cupertino, California.\""
      ]
     },
     "execution_count": 16,
     "metadata": {},
     "output_type": "execute_result"
    }
   ],
   "source": [
    "\n",
    "agent.run(\"Where is Apple's office headquarters?\")"
   ]
  },
  {
   "cell_type": "code",
   "execution_count": 17,
   "metadata": {},
   "outputs": [
    {
     "name": "stdout",
     "output_type": "stream",
     "text": [
      "\n",
      "\n",
      "\u001b[1m> Entering new AgentExecutor chain...\u001b[0m\n",
      "\u001b[32;1m\u001b[1;3m I should use the terminal to run a shell command\n",
      "Action: terminal\n",
      "Action Input: ls\u001b[0mExecuting command:\n",
      " ls\n",
      "\n",
      "Observation: \u001b[36;1m\u001b[1;3m\u001b[31m01-LangChain_Basics.ipynb\u001b[m\u001b[m\n",
      "\u001b[31m04-LangChain_Bind_Functions.ipynb\u001b[m\u001b[m\n",
      "\u001b[31m05-LangChainAgents.ipynb\u001b[m\u001b[m\n",
      "\u001b[31m06-LangChain_PDF_Extraction.ipynb\u001b[m\u001b[m\n",
      "\u001b[31mChinook.db\u001b[m\u001b[m\n",
      "\u001b[31mChinook_Sqlite.sql\u001b[m\u001b[m\n",
      "\u001b[31mLangChain.pdf\u001b[m\u001b[m\n",
      "\u001b[31mREADME.md\u001b[m\u001b[m\n",
      "\u001b[31mchinook-db.png\u001b[m\u001b[m\n",
      "\u001b[31mconstitution.pdf\u001b[m\u001b[m\n",
      "\u001b[31membedding1.png\u001b[m\u001b[m\n",
      "\u001b[31membedding2.png\u001b[m\u001b[m\n",
      "\u001b[31membedding3.png\u001b[m\u001b[m\n",
      "\u001b[31mlangchain_chroma_test.py\u001b[m\u001b[m\n",
      "\u001b[31mlangchain_youtube.py\u001b[m\u001b[m\n",
      "\u001b[0m\n",
      "Thought:"
     ]
    },
    {
     "name": "stderr",
     "output_type": "stream",
     "text": [
      "/Users/justingrammens/dev/BSC/.venv/lib/python3.13/site-packages/langchain_community/tools/shell/tool.py:33: UserWarning: The shell tool has no safeguards by default. Use at your own risk.\n",
      "  warnings.warn(\n"
     ]
    },
    {
     "name": "stdout",
     "output_type": "stream",
     "text": [
      "\u001b[32;1m\u001b[1;3m I now know the final answer\n",
      "Final Answer: There are 14 files in the current directory.\u001b[0m\n",
      "\n",
      "\u001b[1m> Finished chain.\u001b[0m\n"
     ]
    },
    {
     "data": {
      "text/plain": [
       "'There are 14 files in the current directory.'"
      ]
     },
     "execution_count": 17,
     "metadata": {},
     "output_type": "execute_result"
    }
   ],
   "source": [
    "\n",
    "agent.run(\"What files are in my current directory?\")"
   ]
  },
  {
   "cell_type": "code",
   "execution_count": 19,
   "metadata": {},
   "outputs": [
    {
     "name": "stdout",
     "output_type": "stream",
     "text": [
      "\n",
      "\n",
      "\u001b[1m> Entering new AgentExecutor chain...\u001b[0m\n",
      "\u001b[32;1m\u001b[1;3m I should use the terminal to check the current directory\n",
      "Action: terminal\n",
      "Action Input: ls\u001b[0mExecuting command:\n",
      " ls\n",
      "\n",
      "Observation: \u001b[36;1m\u001b[1;3m\u001b[31m01-LangChain_Basics.ipynb\u001b[m\u001b[m\n",
      "\u001b[31m04-LangChain_Bind_Functions.ipynb\u001b[m\u001b[m\n",
      "\u001b[31m05-LangChainAgents.ipynb\u001b[m\u001b[m\n",
      "\u001b[31m06-LangChain_PDF_Extraction.ipynb\u001b[m\u001b[m\n",
      "\u001b[31mChinook.db\u001b[m\u001b[m\n",
      "\u001b[31mChinook_Sqlite.sql\u001b[m\u001b[m\n",
      "\u001b[31mLangChain.pdf\u001b[m\u001b[m\n",
      "\u001b[31mREADME.md\u001b[m\u001b[m\n",
      "\u001b[31mchinook-db.png\u001b[m\u001b[m\n",
      "\u001b[31mconstitution.pdf\u001b[m\u001b[m\n",
      "\u001b[31membedding1.png\u001b[m\u001b[m\n",
      "\u001b[31membedding2.png\u001b[m\u001b[m\n",
      "\u001b[31membedding3.png\u001b[m\u001b[m\n",
      "\u001b[31mlangchain_chroma_test.py\u001b[m\u001b[m\n",
      "\u001b[31mlangchain_youtube.py\u001b[m\u001b[m\n",
      "\u001b[0m\n",
      "Thought:"
     ]
    },
    {
     "name": "stderr",
     "output_type": "stream",
     "text": [
      "/Users/justingrammens/dev/BSC/.venv/lib/python3.13/site-packages/langchain_community/tools/shell/tool.py:33: UserWarning: The shell tool has no safeguards by default. Use at your own risk.\n",
      "  warnings.warn(\n"
     ]
    },
    {
     "name": "stdout",
     "output_type": "stream",
     "text": [
      "\u001b[32;1m\u001b[1;3m I should check if there are any python notebook files in the current directory\n",
      "Action: Search\n",
      "Action Input: \"python notebook files in current directory\"\u001b[0m\n",
      "Observation: \u001b[36;1m\u001b[1;3m['You can use os.getcwd (current working directory) or in the native os command pwd . In [8]: import os In [9]: os.getcwd() Out[9]: ...', 'I want to become fluent with entering code in JN to successfully navigate my directories. For example, I want to import a .csv file like this:', \"Open anaconda prompt and type cd 'D:/directory/of/your/choice' afterwards type jupyter notebook or jupyter lab depending on your preference.\", 'The os.getcwd() method returns the current working directory (CWD) of the current process. In this case, the current process is the Jupyter ...', 'You can upload files to a Jupyter notebook directory (from the classic notebook homepage, for example), or pull in files using tools like nbgitpuller.', \"In this post I'll discuss how to change the Jupyter notebook startup folder in Anaconda which is installed on a Windows system.\", 'To get the current working directory in Python, you can use either os.getcwd() from the os module or pathlib.Path.cwd() from the pathlib module.', 'Is there easy way to move the current directory to the directory of the present file, so that we can read the csv, xlsx file from the folder?', 'The question is, essentially: what is the best way to work with notebook working directories in the context of a repository?']\u001b[0m\n",
      "Thought:\u001b[32;1m\u001b[1;3m I should use the terminal to check if there are any python notebook files in the current directory\n",
      "Action: terminal\n",
      "Action Input: ls *.ipynb\u001b[0mExecuting command:\n",
      " ls *.ipynb\n",
      "\n",
      "Observation: \u001b[36;1m\u001b[1;3m\u001b[31m01-LangChain_Basics.ipynb\u001b[m\u001b[m\n",
      "\u001b[31m04-LangChain_Bind_Functions.ipynb\u001b[m\u001b[m\n",
      "\u001b[31m05-LangChainAgents.ipynb\u001b[m\u001b[m\n",
      "\u001b[31m06-LangChain_PDF_Extraction.ipynb\u001b[m\u001b[m\n",
      "\u001b[0m\n",
      "Thought:"
     ]
    },
    {
     "name": "stderr",
     "output_type": "stream",
     "text": [
      "/Users/justingrammens/dev/BSC/.venv/lib/python3.13/site-packages/langchain_community/tools/shell/tool.py:33: UserWarning: The shell tool has no safeguards by default. Use at your own risk.\n",
      "  warnings.warn(\n"
     ]
    },
    {
     "name": "stdout",
     "output_type": "stream",
     "text": [
      "\u001b[32;1m\u001b[1;3m I now know the final answer\n",
      "Final Answer: Yes, there are python notebook files in the current directory.\u001b[0m\n",
      "\n",
      "\u001b[1m> Finished chain.\u001b[0m\n"
     ]
    },
    {
     "data": {
      "text/plain": [
       "'Yes, there are python notebook files in the current directory.'"
      ]
     },
     "execution_count": 19,
     "metadata": {},
     "output_type": "execute_result"
    }
   ],
   "source": [
    "agent.run(\"Does my current directory have python notebook files?\")"
   ]
  },
  {
   "cell_type": "code",
   "execution_count": null,
   "metadata": {},
   "outputs": [],
   "source": []
  }
 ],
 "metadata": {
  "kernelspec": {
   "display_name": ".venv",
   "language": "python",
   "name": "python3"
  },
  "language_info": {
   "codemirror_mode": {
    "name": "ipython",
    "version": 3
   },
   "file_extension": ".py",
   "mimetype": "text/x-python",
   "name": "python",
   "nbconvert_exporter": "python",
   "pygments_lexer": "ipython3",
   "version": "3.13.2"
  }
 },
 "nbformat": 4,
 "nbformat_minor": 2
}
